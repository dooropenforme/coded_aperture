{
 "cells": [
  {
   "cell_type": "code",
   "id": "initial_id",
   "metadata": {
    "collapsed": true,
    "ExecuteTime": {
     "end_time": "2024-06-12T09:12:18.698174Z",
     "start_time": "2024-06-12T09:12:18.678015Z"
    }
   },
   "source": [
    "from PIL import Image\n",
    "#这是进行图像处理的整合版，适用于得到的像图像\n",
    "# 打开一张图片\n",
    "img = Image.open('2.png')\n",
    "\n",
    "# 对图像进行处理，比如调整大小\n",
    "resized_img = img.resize((129, 129))\n",
    "img = resized_img.convert(\"L\")\n",
    "width, height = img.size\n",
    "\n",
    "# 创建一个新的图像对象\n",
    "new_image = Image.new(\"L\", (width, height))"
   ],
   "outputs": [],
   "execution_count": 19
  },
  {
   "metadata": {
    "ExecuteTime": {
     "end_time": "2024-06-12T09:12:24.898042Z",
     "start_time": "2024-06-12T09:12:24.876270Z"
    }
   },
   "cell_type": "code",
   "source": [
    "#这是进行图像处理的整合版，适用于得到的像图像\n",
    "# 遍历每个像素,根据条件进行灰度值转换\n",
    "for x in range(width):\n",
    "    for y in range(height):\n",
    "        pixel_value = img.getpixel((x, y))\n",
    "        if pixel_value > 180:\n",
    "            new_pixel_value = 200\n",
    "        elif 100 <= pixel_value <= 180:\n",
    "            new_pixel_value = 100\n",
    "        else:\n",
    "            new_pixel_value = 0\n",
    "        new_image.putpixel((x, y), new_pixel_value)\n",
    "# 保存处理后的图像\n",
    "new_image.save('coded_129.png')"
   ],
   "id": "7c59bbe0ba6a1427",
   "outputs": [],
   "execution_count": 20
  },
  {
   "metadata": {
    "ExecuteTime": {
     "end_time": "2024-06-12T09:11:57.361531Z",
     "start_time": "2024-06-12T09:11:57.334555Z"
    }
   },
   "cell_type": "code",
   "source": [
    "#这是进行图像处理的整合版，适用于分析图像\n",
    "# 遍历每个像素,根据条件进行灰度值转换\n",
    "for x in range(width):\n",
    "    for y in range(height):\n",
    "        pixel_value = img.getpixel((x, y))\n",
    "        if pixel_value > 250:\n",
    "            new_pixel_value = 200\n",
    "        elif 100 <= pixel_value <= 250:\n",
    "            new_pixel_value = 100\n",
    "        else:\n",
    "            new_pixel_value = 0\n",
    "        new_image.putpixel((x, y), new_pixel_value)\n",
    "new_image=new_image.rotate(180)\n",
    "# 保存处理后的图像\n",
    "new_image.save('./anticode_129.png')"
   ],
   "id": "2e1bd3a89f729064",
   "outputs": [],
   "execution_count": 18
  }
 ],
 "metadata": {
  "kernelspec": {
   "display_name": "Python 3",
   "language": "python",
   "name": "python3"
  },
  "language_info": {
   "codemirror_mode": {
    "name": "ipython",
    "version": 2
   },
   "file_extension": ".py",
   "mimetype": "text/x-python",
   "name": "python",
   "nbconvert_exporter": "python",
   "pygments_lexer": "ipython2",
   "version": "2.7.6"
  }
 },
 "nbformat": 4,
 "nbformat_minor": 5
}
